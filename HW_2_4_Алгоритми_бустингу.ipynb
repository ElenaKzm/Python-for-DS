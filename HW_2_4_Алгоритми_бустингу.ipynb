{
 "cells": [
  {
   "cell_type": "markdown",
   "metadata": {
    "id": "fDefDHQt8LXC"
   },
   "source": [
    "В цьому домашньому завданні ми знову працюємо з даними з нашого змагання [\"Bank Customer Churn Prediction (DLU Course)\"](https://www.kaggle.com/t/7c080c5d8ec64364a93cf4e8f880b6a0).\n",
    "\n",
    "Тут ми побудуємо рішення задачі класифікації з використанням алгоритмів бустингу: XGBoost та LightGBM, а також використаємо бібліотеку HyperOpt для оптимізації гіперпараметрів."
   ]
  },
  {
   "cell_type": "markdown",
   "metadata": {
    "id": "LhivzW9W8-Dz"
   },
   "source": [
    "0. Зчитайте дані `train.csv` в змінну `raw_df` та скористайтесь наведеним кодом нижче аби розділити дані на трнувальні та валідаційні і розділити дані на ознаки з матириці Х та цільову змінну. Назви змінних `train_inputs, train_targets, train_inputs, train_targets` можна змінити на ті, які Вам зручно.\n",
    "\n",
    "  Наведений скрипт - частина отриманого мною скрипта для обробки даних. Ми тут не викнуємо масштабування та обробку категоріальних змінних, бо хочемо це делегувати алгоритмам, які будемо використовувати. Якщо щось не розумієте в наведених скриптах, рекомендую розібратись: навичка читати код - важлива складова роботи в машинному навчанні."
   ]
  },
  {
   "cell_type": "code",
   "execution_count": 1,
   "metadata": {
    "id": "cKE8RTPf6CRD"
   },
   "outputs": [],
   "source": [
    "import pandas as pd\n",
    "import numpy as np\n",
    "import seaborn as sns\n",
    "import matplotlib.pyplot as plt\n",
    "from sklearn.model_selection import train_test_split\n",
    "from typing import Tuple, Dict, Any\n",
    "\n",
    "\n",
    "def split_train_val(df: pd.DataFrame, target_col: str, test_size: float = 0.2, random_state: int = 42) -> Tuple[pd.DataFrame, pd.DataFrame]:\n",
    "    \"\"\"\n",
    "    Split the dataframe into training and validation sets.\n",
    "\n",
    "    Args:\n",
    "        df (pd.DataFrame): The raw dataframe.\n",
    "        target_col (str): The target column for stratification.\n",
    "        test_size (float): The proportion of the dataset to include in the validation split.\n",
    "        random_state (int): Random state for reproducibility.\n",
    "\n",
    "    Returns:\n",
    "        Tuple[pd.DataFrame, pd.DataFrame]: Training and validation dataframes.\n",
    "    \"\"\"\n",
    "    train_df, val_df = train_test_split(df, test_size=test_size, random_state=random_state, stratify=df[target_col])\n",
    "    return train_df, val_df\n",
    "\n",
    "\n",
    "def separate_inputs_targets(df: pd.DataFrame, input_cols: list, target_col: str) -> Tuple[pd.DataFrame, pd.Series]:\n",
    "    \"\"\"\n",
    "    Separate inputs and targets from the dataframe.\n",
    "\n",
    "    Args:\n",
    "        df (pd.DataFrame): The dataframe.\n",
    "        input_cols (list): List of input columns.\n",
    "        target_col (str): Target column.\n",
    "\n",
    "    Returns:\n",
    "        Tuple[pd.DataFrame, pd.Series]: DataFrame of inputs and Series of targets.\n",
    "    \"\"\"\n",
    "    inputs = df[input_cols].copy()\n",
    "    targets = df[target_col].copy()\n",
    "    return inputs, targets"
   ]
  },
  {
   "cell_type": "code",
   "execution_count": 3,
   "metadata": {
    "id": "-bHdMJVB4xQR"
   },
   "outputs": [],
   "source": [
    "df = pd.read_csv('bank-customer-churn-prediction-dlu-course-c-2/train.csv')"
   ]
  },
  {
   "cell_type": "code",
   "execution_count": 5,
   "metadata": {},
   "outputs": [],
   "source": [
    "train_df, val_df = split_train_val(df, target_col = 'Exited')"
   ]
  },
  {
   "cell_type": "code",
   "execution_count": 7,
   "metadata": {},
   "outputs": [],
   "source": [
    "input_cols = df.drop(columns=['Exited']).columns.tolist()\n",
    "target_col = 'Exited'\n",
    "train_df, train_y = separate_inputs_targets(train_df, input_cols, target_col)\n",
    "val_df, val_y = separate_inputs_targets(val_df, input_cols, target_col)"
   ]
  },
  {
   "cell_type": "markdown",
   "metadata": {
    "id": "cq0JU7MqHgp_"
   },
   "source": [
    "1. В тренувальному та валідаційному наборі перетворіть категоріальні ознаки на тип `category`. Можна це зробити двома способами:\n",
    " 1. `df[col_name].astype('category')`, як було продемонстровано в лекції\n",
    " 2. використовуючи метод `pd.Categorical(df[col_name])`"
   ]
  },
  {
   "cell_type": "code",
   "execution_count": 10,
   "metadata": {},
   "outputs": [],
   "source": [
    "cat_features = train_df.select_dtypes(include='object').columns\n",
    "train_df[cat_features] = train_df[cat_features].astype('category')\n",
    "val_df[cat_features] = val_df[cat_features].astype('category')"
   ]
  },
  {
   "cell_type": "markdown",
   "metadata": {
    "id": "_LxWkv4o-wMe"
   },
   "source": [
    "2. Навчіть на отриманих даних модель `XGBoostClassifier`. Параметри алгоритму встановіть на свій розсуд, ми далі будемо їх тюнити. Рекомендую тренувати не дуже складну модель.\n",
    "\n",
    "  Опис всіх конфігураційних параметрів XGBoostClassifier - тут https://xgboost.readthedocs.io/en/stable/parameter.html#global-config\n",
    "\n",
    "  **Важливо:** зробіть такі налаштування `XGBoostClassifier` аби він самостійно обробляв незаповнені значення в даних і обробляв категоріальні колонки.\n",
    "\n",
    "  Можна також, якщо працюєте в Google Colab, увімкнути можливість використання GPU (`Runtime -> Change runtime type -> T4 GPU`) і встановити параметр `device='cuda'` в `XGBoostClassifier` для пришвидшення тренування бустинг моделі.\n",
    "  \n",
    "  Після тренування моделі\n",
    "  1. Виміряйте точність з допомогою AUROC на тренувальному та валідаційному наборах.\n",
    "  2. Зробіть висновок про отриману модель: вона хороша/погана, чи є high bias/high variance?\n",
    "  3. Порівняйте якість цієї моделі з тою, що ви отрмали з використанням DecisionTrees раніше. Чи вийшло покращити якість?"
   ]
  },
  {
   "cell_type": "code",
   "execution_count": 13,
   "metadata": {},
   "outputs": [],
   "source": [
    "from xgboost import XGBClassifier\n",
    "from hyperopt import fmin, tpe, hp, STATUS_OK, Trials\n",
    "from sklearn.metrics import roc_auc_score\n",
    "from lightgbm import LGBMClassifier"
   ]
  },
  {
   "cell_type": "code",
   "execution_count": 29,
   "metadata": {},
   "outputs": [
    {
     "name": "stdout",
     "output_type": "stream",
     "text": [
      "Area under ROC score on train dataset: 0.94839\n",
      "Area under ROC score on validation dataset: 0.92728\n"
     ]
    }
   ],
   "source": [
    "xgb_clf = XGBClassifier(\n",
    "    max_depth=3,\n",
    "    n_estimators=15,\n",
    "    enable_categorical=True,  # для категорійних ознак\n",
    "    missing=np.nan  # явне вказування пропущених значень\n",
    ")\n",
    "\n",
    "xgb_clf.fit(train_df, train_y)\n",
    "\n",
    "train_pred = xgb_clf.predict_proba(train_df)[:, 1]\n",
    "val_pred = xgb_clf.predict_proba(val_df)[:, 1]\n",
    "\n",
    "print(f\"Area under ROC score on train dataset: {roc_auc_score(train_y, train_pred):.5f}\")\n",
    "print(f\"Area under ROC score on validation dataset: {roc_auc_score(val_y, val_pred):.5f}\")"
   ]
  },
  {
   "cell_type": "markdown",
   "metadata": {},
   "source": [
    "Притренуванні DecisionTreeClassifier раніше отримали такі результати:\\\n",
    "Area under ROC score on train dataset: 0.92143\\\n",
    "Area under ROC score on validation dataset: 0.92101\n",
    "\n",
    "Отримана модель краща на val датасеті, але вона трохи перенавчена. Треба тюнити гіперпараметри."
   ]
  },
  {
   "cell_type": "markdown",
   "metadata": {
    "id": "U4hm5qYs_f7x"
   },
   "source": [
    "3. Використовуючи бібліотеку `Hyperopt` і приклад пошуку гіперпараметрів для `XGBoostClassifier` з лекції знайдіть оптимальні значення гіперпараметрів `XGBoostClassifier` для нашої задачі. Задайте свою сітку гіперпараметрів виходячи з тих параметрів, які ви б хотіли перебрати. Поставте кількість раундів в підборі гіперпараметрів рівну **20**.\n",
    "\n",
    "  **Увага!** Для того, аби скористатись hyperopt, нам треба задати функцію `objective`. В ній ми маємо задати loss - це може будь-яка метрика, але бажано використовувтаи ту, яка цільова в вашій задачі. Чим менший лосс - тим ліпша модель на думку hyperopt. Тож, тут нам треба задати loss - негативне значення AUROC. В лекції ми натомість використовували Accuracy.\n",
    "\n",
    "  Після успішного завершення пошуку оптимальних гіперпараметрів\n",
    "    - виведіть найкращі значення гіперпараметрів\n",
    "    - створіть в окремій зміній `final_clf` модель `XGBoostClassifier` з найкращими гіперпараметрами\n",
    "    - навчіть модель `final_clf`\n",
    "    - оцініть якість моделі `final_clf` на тренувальній і валідаційній вибірках з допомогою AUROC.\n",
    "    - зробіть висновок про якість моделі. Чи стала вона краще порівняно з попереднім пунктом (2) цього завдання?"
   ]
  },
  {
   "cell_type": "code",
   "execution_count": 104,
   "metadata": {
    "id": "WhR1g9B4433r"
   },
   "outputs": [
    {
     "name": "stdout",
     "output_type": "stream",
     "text": [
      "100%|██████████| 20/20 [00:01<00:00, 10.10trial/s, best loss: -0.9374669044516084]\n",
      "Найкращі гіперпараметри:  {'colsample_bytree': 0.5174644884058243, 'gamma': 4.18758068821419, 'learning_rate': 0.14680210611079766, 'max_depth': 4, 'min_child_weight': 14, 'n_estimators': 290, 'reg_alpha': 6.593663026326723, 'reg_lambda': 7.111819606384987, 'scale_pos_weight': 1.0, 'subsample': 0.5748238574093847}\n",
      "Точність на валідаційній вибірці: 0.9373\n"
     ]
    }
   ],
   "source": [
    "def objective(params):\n",
    "    clf = XGBClassifier(\n",
    "        n_estimators=int(params['n_estimators']),\n",
    "        learning_rate=params['learning_rate'],\n",
    "        max_depth=int(params['max_depth']),\n",
    "        min_child_weight=params['min_child_weight'],  # Мінімальна сума ваг всіх вибірок, необхідна в кінцевому вузлі\n",
    "        subsample=params['subsample'],  # Частка вибірок, що використовуються для побудови кожного дерева\n",
    "        colsample_bytree=params['colsample_bytree'],  # Частка ознак, що використовуються при побудові кожного дерева\n",
    "        gamma=params['gamma'],  # Мінімальне зменшення втрат, необхідне для виконання поділу\n",
    "        reg_alpha=params['reg_alpha'],  # Параметр регуляризації L1 (Lasso)\n",
    "        reg_lambda=params['reg_lambda'],  # Параметр регуляризації L2 (Ridge)\n",
    "        scale_pos_weight=params['scale_pos_weight'],\n",
    "        enable_categorical=True,\n",
    "        missing=np.nan,\n",
    "        early_stopping_rounds=20\n",
    "    )\n",
    "\n",
    "    clf.fit(\n",
    "        train_df,\n",
    "        train_y,\n",
    "        eval_set=[(val_df, val_y)],\n",
    "        verbose=False)\n",
    "\n",
    "    val_pred = clf.predict_proba(val_df)[:, 1]\n",
    "    \n",
    "    val_auc = roc_auc_score(val_y, val_pred)\n",
    "\n",
    "    return {'loss': - val_auc, 'status': STATUS_OK}\n",
    "\n",
    "# Простір гіперпараметрів\n",
    "space = {\n",
    "    'n_estimators': hp.quniform('n_estimators', 30, 300, 10),\n",
    "    'learning_rate': hp.uniform('learning_rate', 0.001, 0.3),\n",
    "    'max_depth': hp.quniform('max_depth', 2, 15, 1),\n",
    "    'min_child_weight': hp.quniform('min_child_weight', 1, 30, 1),\n",
    "    'subsample': hp.uniform('subsample', 0.5, 1.0),\n",
    "    'colsample_bytree': hp.uniform('colsample_bytree', 0.5, 1.0),\n",
    "    'gamma': hp.uniform('gamma', 0, 20),\n",
    "    'reg_alpha': hp.uniform('reg_alpha', 0, 10),\n",
    "    'reg_lambda': hp.uniform('reg_lambda', 0, 10),\n",
    "    'scale_pos_weight': hp.quniform('scale_pos_weight', 1, 10, 0.5)\n",
    "}\n",
    "\n",
    "# Оптимізація\n",
    "trials = Trials()\n",
    "best = fmin(fn=objective, space=space, algo=tpe.suggest, max_evals=20, trials=trials)\n",
    "\n",
    "# Перетворення значень гіперпараметрів у кінцеві типи\n",
    "best['n_estimators'] = int(best['n_estimators'])\n",
    "best['max_depth'] = int(best['max_depth'])\n",
    "best['min_child_weight'] = int(best['min_child_weight'])\n",
    "\n",
    "print(\"Найкращі гіперпараметри: \", best)\n",
    "\n",
    "# Навчання фінальної моделі з найкращими гіперпараметрами\n",
    "final_xgb = XGBClassifier(\n",
    "    n_estimators=best['n_estimators'],\n",
    "    learning_rate=best['learning_rate'],\n",
    "    max_depth=best['max_depth'],\n",
    "    min_child_weight=best['min_child_weight'],\n",
    "    subsample=best['subsample'],\n",
    "    colsample_bytree=best['colsample_bytree'],\n",
    "    gamma=best['gamma'],\n",
    "    reg_alpha=best['reg_alpha'],\n",
    "    reg_lambda=best['reg_lambda'],\n",
    "    scale_pos_weight=best['scale_pos_weight'],\n",
    "    enable_categorical=True,\n",
    "    missing=np.nan\n",
    ")\n",
    "\n",
    "final_xgb.fit(train_df, train_y)\n",
    "final_pred = final_xgb.predict_proba(val_df)[:, 1]\n",
    "final_auroc = roc_auc_score(val_y, final_pred)\n",
    "print(\"Точність на валідаційній вибірці: {:.4f}\".format(final_auroc))"
   ]
  },
  {
   "cell_type": "code",
   "execution_count": 106,
   "metadata": {},
   "outputs": [
    {
     "name": "stdout",
     "output_type": "stream",
     "text": [
      "Area under ROC score on train dataset: 0.93843\n",
      "Area under ROC score on validation dataset: 0.93729\n"
     ]
    }
   ],
   "source": [
    "train_pred = final_xgb.predict_proba(train_df)[:, 1]\n",
    "val_pred = final_xgb.predict_proba(val_df)[:, 1]\n",
    "\n",
    "print(f\"Area under ROC score on train dataset: {roc_auc_score(train_y, train_pred):.5f}\")\n",
    "print(f\"Area under ROC score on validation dataset: {roc_auc_score(val_y, val_pred):.5f}\")"
   ]
  },
  {
   "cell_type": "markdown",
   "metadata": {},
   "source": [
    "Порівняно з моделлю XGBClassifier з параметрами за замовчуваннями, ця модель з підібраними гіперпараметрами має вищий скор та менш перенавчена."
   ]
  },
  {
   "cell_type": "markdown",
   "metadata": {
    "id": "Vg77SVWrBBmU"
   },
   "source": [
    "4. Навчіть на наших даних модель LightGBM. Параметри алгоритму встановіть на свій розсуд, ми далі будемо їх тюнити. Рекомендую тренувати не дуже складну модель.\n",
    "\n",
    "  Опис всіх конфігураційних параметрів LightGBM - тут https://lightgbm.readthedocs.io/en/latest/Parameters.html\n",
    "\n",
    "  **Важливо:** зробіть такі налаштування LightGBM аби він самостійно обробляв незаповнені значення в даних і обробляв категоріальні колонки.\n",
    "\n",
    "  Аби передати категоріальні колонки в LightGBM - необхідно виявити їх індекси і передати в параметрі `cat_feature=cat_feature_indexes`\n",
    "\n",
    "  Після тренування моделі\n",
    "  1. Виміряйте точність з допомогою AUROC на тренувальному та валідаційному наборах.\n",
    "  2. Зробіть висновок про отриману модель: вона хороша/погана, чи є high bias/high variance?\n",
    "  3. Порівняйте якість цієї моделі з тою, що ви отрмали з використанням XGBoostClassifier раніше. Чи вийшло покращити якість?"
   ]
  },
  {
   "cell_type": "code",
   "execution_count": 108,
   "metadata": {
    "id": "C-9aZn4d45No"
   },
   "outputs": [],
   "source": [
    "cat_feature_indexes = [train_df.columns.get_loc(col) for col in cat_features]"
   ]
  },
  {
   "cell_type": "code",
   "execution_count": 110,
   "metadata": {},
   "outputs": [
    {
     "name": "stdout",
     "output_type": "stream",
     "text": [
      "[LightGBM] [Warning] Categorical features with more bins than the configured maximum bin number found.\n",
      "[LightGBM] [Warning] For categorical features, max_bin and max_bin_by_feature may be ignored with a large number of categories.\n",
      "[LightGBM] [Warning] categorical_feature is set with cat_feature=2,4,5, categorical_column=2,4,5 will be ignored. Current value: categorical_feature=2,4,5\n",
      "[LightGBM] [Info] Number of positive: 2442, number of negative: 9558\n",
      "[LightGBM] [Info] Auto-choosing row-wise multi-threading, the overhead of testing was 0.000587 seconds.\n",
      "You can set `force_row_wise=true` to remove the overhead.\n",
      "And if memory is not enough, you can set `force_col_wise=true`.\n",
      "[LightGBM] [Info] Total Bins 1826\n",
      "[LightGBM] [Info] Number of data points in the train set: 12000, number of used features: 13\n",
      "[LightGBM] [Info] [binary:BoostFromScore]: pavg=0.203500 -> initscore=-1.364561\n",
      "[LightGBM] [Info] Start training from score -1.364561\n",
      "[LightGBM] [Warning] No further splits with positive gain, best gain: -inf\n",
      "[LightGBM] [Warning] No further splits with positive gain, best gain: -inf\n",
      "[LightGBM] [Warning] No further splits with positive gain, best gain: -inf\n",
      "[LightGBM] [Warning] No further splits with positive gain, best gain: -inf\n",
      "[LightGBM] [Warning] No further splits with positive gain, best gain: -inf\n",
      "[LightGBM] [Warning] No further splits with positive gain, best gain: -inf\n",
      "[LightGBM] [Warning] No further splits with positive gain, best gain: -inf\n",
      "[LightGBM] [Warning] No further splits with positive gain, best gain: -inf\n",
      "[LightGBM] [Warning] No further splits with positive gain, best gain: -inf\n",
      "[LightGBM] [Warning] No further splits with positive gain, best gain: -inf\n",
      "[LightGBM] [Warning] No further splits with positive gain, best gain: -inf\n",
      "[LightGBM] [Warning] No further splits with positive gain, best gain: -inf\n",
      "[LightGBM] [Warning] No further splits with positive gain, best gain: -inf\n",
      "[LightGBM] [Warning] No further splits with positive gain, best gain: -inf\n",
      "[LightGBM] [Warning] No further splits with positive gain, best gain: -inf\n",
      "[LightGBM] [Warning] No further splits with positive gain, best gain: -inf\n",
      "[LightGBM] [Warning] No further splits with positive gain, best gain: -inf\n",
      "[LightGBM] [Warning] No further splits with positive gain, best gain: -inf\n",
      "[LightGBM] [Warning] No further splits with positive gain, best gain: -inf\n",
      "[LightGBM] [Warning] No further splits with positive gain, best gain: -inf\n",
      "[LightGBM] [Warning] No further splits with positive gain, best gain: -inf\n",
      "[LightGBM] [Warning] No further splits with positive gain, best gain: -inf\n",
      "[LightGBM] [Warning] No further splits with positive gain, best gain: -inf\n",
      "[LightGBM] [Warning] No further splits with positive gain, best gain: -inf\n",
      "[LightGBM] [Warning] No further splits with positive gain, best gain: -inf\n",
      "[LightGBM] [Warning] No further splits with positive gain, best gain: -inf\n",
      "[LightGBM] [Warning] No further splits with positive gain, best gain: -inf\n",
      "[LightGBM] [Warning] No further splits with positive gain, best gain: -inf\n",
      "[LightGBM] [Warning] No further splits with positive gain, best gain: -inf\n",
      "[LightGBM] [Warning] No further splits with positive gain, best gain: -inf\n",
      "[LightGBM] [Warning] No further splits with positive gain, best gain: -inf\n",
      "[LightGBM] [Warning] No further splits with positive gain, best gain: -inf\n",
      "[LightGBM] [Warning] No further splits with positive gain, best gain: -inf\n",
      "[LightGBM] [Warning] No further splits with positive gain, best gain: -inf\n",
      "[LightGBM] [Warning] No further splits with positive gain, best gain: -inf\n",
      "[LightGBM] [Warning] No further splits with positive gain, best gain: -inf\n",
      "[LightGBM] [Warning] No further splits with positive gain, best gain: -inf\n",
      "[LightGBM] [Warning] No further splits with positive gain, best gain: -inf\n",
      "[LightGBM] [Warning] No further splits with positive gain, best gain: -inf\n",
      "[LightGBM] [Warning] No further splits with positive gain, best gain: -inf\n",
      "[LightGBM] [Warning] No further splits with positive gain, best gain: -inf\n",
      "[LightGBM] [Warning] No further splits with positive gain, best gain: -inf\n",
      "[LightGBM] [Warning] No further splits with positive gain, best gain: -inf\n",
      "[LightGBM] [Warning] No further splits with positive gain, best gain: -inf\n",
      "[LightGBM] [Warning] No further splits with positive gain, best gain: -inf\n",
      "[LightGBM] [Warning] No further splits with positive gain, best gain: -inf\n",
      "[LightGBM] [Warning] No further splits with positive gain, best gain: -inf\n",
      "[LightGBM] [Warning] No further splits with positive gain, best gain: -inf\n",
      "[LightGBM] [Warning] No further splits with positive gain, best gain: -inf\n",
      "[LightGBM] [Warning] No further splits with positive gain, best gain: -inf\n",
      "Area under ROC score on train dataset: 0.95010\n",
      "Area under ROC score on validation dataset: 0.93552\n"
     ]
    }
   ],
   "source": [
    "lgb_clf = LGBMClassifier(\n",
    "    max_depth=3,\n",
    "    n_estimators=50,\n",
    "    learning_rate=0.1,\n",
    "    cat_feature=cat_feature_indexes,  # для автоматичного розпізнавання категорійних ознак\n",
    ")\n",
    "\n",
    "lgb_clf.fit(train_df, train_y, eval_set=[(val_df, val_y)])\n",
    "\n",
    "train_pred = lgb_clf.predict_proba(train_df)[:, 1]\n",
    "val_pred = lgb_clf.predict_proba(val_df)[:, 1]\n",
    "\n",
    "print(f\"Area under ROC score on train dataset: {roc_auc_score(train_y, train_pred):.5f}\")\n",
    "print(f\"Area under ROC score on validation dataset: {roc_auc_score(val_y, val_pred):.5f}\")"
   ]
  },
  {
   "cell_type": "markdown",
   "metadata": {},
   "source": [
    "Базовий LGBM показав себе краще за базовий XGB в якого показники були:\\\n",
    "Area under ROC score on train dataset: 0.94839\\\n",
    "Area under ROC score on validation dataset: 0.92728\n",
    "\n",
    "Але модель перенавчена і потребує підбору гіперпараметрів."
   ]
  },
  {
   "cell_type": "markdown",
   "metadata": {
    "id": "nCnkGD_sEW1i"
   },
   "source": [
    "5. Використовуючи бібліотеку `Hyperopt` і приклад пошуку гіперпараметрів для `LightGBM` з лекції знайдіть оптимальні значення гіперпараметрів `LightGBM` для нашої задачі. Задайте свою сітку гіперпараметрів виходячи з тих параметрів, які ви б хотіли перебрати. Поставте кількість раундів в підборі гіперпараметрів рівну **10**.\n",
    "\n",
    "  **Увага!** Для того, аби скористатись hyperopt, нам треба задати функцію `objective`. І тут ми також ставимо loss - негативне значення AUROC, як і при пошуці гіперпараметрів для XGBoost. До речі, можна спробувати написати код так, аби в objective передавати лише модель і не писати схожий код двічі :)\n",
    "\n",
    "  Після успішного завершення пошуку оптимальних гіперпараметрів\n",
    "    - виведіть найкращі значення гіперпараметрів\n",
    "    - створіть в окремій зміній `final_lgb_clf` модель `LightGBM` з найкращими гіперпараметрами\n",
    "    - навчіть модель `final_lgb_clf`\n",
    "    - оцініть якість моделі `final_lgb_clf` на тренувальній і валідаційній вибірках з допомогою AUROC.\n",
    "    - зробіть висновок про якість моделі. Чи стала вона краще порівняно з попереднім пунктом (4) цього завдання?"
   ]
  },
  {
   "cell_type": "code",
   "execution_count": 115,
   "metadata": {
    "id": "cfMQKA4D47Rq"
   },
   "outputs": [
    {
     "name": "stdout",
     "output_type": "stream",
     "text": [
      "100%|██████████| 10/10 [00:00<00:00, 10.03trial/s, best loss: -0.9381864325399547]\n",
      "Найкращі гіперпараметри:  {'colsample_bytree': 0.6910480212243075, 'learning_rate': 0.015174974212616711, 'max_depth': 7, 'min_child_weight': 9, 'min_split_gain': 0.9533189227963026, 'n_estimators': 95, 'num_leaves': 75, 'reg_alpha': 0.019138185993082396, 'reg_lambda': 0.04515225620158062, 'subsample': 0.5277868005640336}\n",
      "Точність на валідаційній вибірці: 0.9382\n"
     ]
    }
   ],
   "source": [
    "import sys\n",
    "import os\n",
    "import contextlib\n",
    "\n",
    "# перевизначаю функцію objective щоб можна було передавати модель як параметр\n",
    "def objective(model, params):\n",
    "\n",
    "    model_params = model.get_params()\n",
    "\n",
    "    int_params = ['n_estimators', 'max_depth', 'min_child_weight', 'num_leaves']\n",
    "\n",
    "    for param in int_params:\n",
    "        if param in model_params:\n",
    "            params[param] = int(params[param])\n",
    "\n",
    "    clf = model.set_params(**params)\n",
    "    \n",
    "    with contextlib.redirect_stdout(open(os.devnull, 'w')):\n",
    "        clf.fit(\n",
    "            train_df,\n",
    "            train_y,\n",
    "            eval_set=[(val_df, val_y)])\n",
    "\n",
    "    val_pred = clf.predict_proba(val_df)[:, 1]\n",
    "\n",
    "    val_auc = roc_auc_score(val_y, val_pred)\n",
    "\n",
    "    return {'loss': - val_auc, 'status': STATUS_OK}\n",
    "\n",
    "# Простір гіперпараметрів\n",
    "space_lgbm = {\n",
    "    'n_estimators': hp.quniform('n_estimators', 10, 100, 5),\n",
    "    'learning_rate': hp.uniform('learning_rate', 0.01, 0.2),\n",
    "    'max_depth': hp.quniform('max_depth', 2, 10, 1),\n",
    "    'num_leaves': hp.quniform('num_leaves', 5, 100, 5),\n",
    "    'min_child_weight': hp.quniform('min_child_weight', 1, 10, 1),\n",
    "    'subsample': hp.uniform('subsample', 0.5, 1.0),\n",
    "    'colsample_bytree': hp.uniform('colsample_bytree', 0.5, 1.0),\n",
    "    'reg_alpha': hp.uniform('reg_alpha', 0, 0.05),\n",
    "    'reg_lambda': hp.uniform('reg_lambda', 0, 0.05),\n",
    "    'min_split_gain': hp.uniform('min_split_gain', 0, 1)  # додано мінімальне зменшення втрат для поділу\n",
    "}\n",
    "\n",
    "lgbm = LGBMClassifier(\n",
    "    cat_feature=cat_feature_indexes\n",
    ")\n",
    "\n",
    "\n",
    "# Оптимізація\n",
    "trials = Trials()\n",
    "best_lgbm = fmin(fn = lambda params: objective(lgbm, params), space=space_lgbm, algo=tpe.suggest, max_evals=10, trials=trials)\n",
    "\n",
    "# Перетворення значень гіперпараметрів у кінцеві типи\n",
    "best_lgbm['n_estimators'] = int(best_lgbm['n_estimators'])\n",
    "best_lgbm['max_depth'] = int(best_lgbm['max_depth'])\n",
    "best_lgbm['min_child_weight'] = int(best_lgbm['min_child_weight'])\n",
    "best_lgbm['num_leaves'] = int(best_lgbm['num_leaves'])\n",
    "\n",
    "print(\"Найкращі гіперпараметри: \", best_lgbm)\n",
    "\n",
    "# Навчання фінальної моделі з найкращими гіперпараметрами\n",
    "final_lgbm = LGBMClassifier(\n",
    "    n_estimators=best_lgbm['n_estimators'],\n",
    "    learning_rate=best_lgbm['learning_rate'],\n",
    "    max_depth=best_lgbm['max_depth'],\n",
    "    num_leaves=best_lgbm['num_leaves'],\n",
    "    min_child_weight=best_lgbm['min_child_weight'],\n",
    "    subsample=best_lgbm['subsample'],\n",
    "    colsample_bytree=best_lgbm['colsample_bytree'],\n",
    "    reg_alpha=best_lgbm['reg_alpha'],\n",
    "    reg_lambda=best_lgbm['reg_lambda'],\n",
    "    min_split_gain=best_lgbm['min_split_gain'],\n",
    "    cat_feature=cat_feature_indexes\n",
    ")\n",
    "with contextlib.redirect_stdout(open(os.devnull, 'w')):\n",
    "    final_lgbm.fit(train_df, train_y)\n",
    "final_pred = final_lgbm.predict_proba(val_df)[:, 1]\n",
    "final_auroc = roc_auc_score(val_y, final_pred)\n",
    "print(\"Точність на валідаційній вибірці: {:.4f}\".format(final_auroc))"
   ]
  },
  {
   "cell_type": "code",
   "execution_count": 117,
   "metadata": {},
   "outputs": [
    {
     "name": "stdout",
     "output_type": "stream",
     "text": [
      "Area under ROC score on train dataset: 0.95526\n",
      "Area under ROC score on validation dataset: 0.93819\n"
     ]
    }
   ],
   "source": [
    "train_pred = final_lgbm.predict_proba(train_df)[:, 1]\n",
    "val_pred = final_lgbm.predict_proba(val_df)[:, 1]\n",
    "\n",
    "print(f\"Area under ROC score on train dataset: {roc_auc_score(train_y, train_pred):.5f}\")\n",
    "print(f\"Area under ROC score on validation dataset: {roc_auc_score(val_y, val_pred):.5f}\")"
   ]
  },
  {
   "cell_type": "markdown",
   "metadata": {
    "id": "XArADR2CG8VK"
   },
   "source": [
    "6. Оберіть модель з експериментів в цьому ДЗ і зробіть новий `submission` на Kaggle та додайте код для цього і скріншот скора на публічному лідерборді.\n",
    "  \n",
    "  **Напишіть коментар, чому ви обрали саме цю модель?**\n",
    "\n",
    "  І я вас вітаю - це останнє завдання з цим набором даних 💪 На цьому етапі корисно проаналізувати, які моделі показали себе найкраще і подумати, чому."
   ]
  },
  {
   "cell_type": "code",
   "execution_count": 119,
   "metadata": {},
   "outputs": [],
   "source": [
    "test_raw_df = pd.read_csv('bank-customer-churn-prediction-dlu-course-c-2/test.csv')\n",
    "test_raw_df[cat_features] = test_raw_df[cat_features].astype('category')"
   ]
  },
  {
   "cell_type": "code",
   "execution_count": 121,
   "metadata": {},
   "outputs": [],
   "source": [
    "def predict_test(model_pipeline, inputs: pd.DataFrame):\n",
    "    preds = model_pipeline.predict(inputs)\n",
    "    y_pred_proba = model_pipeline.predict_proba(inputs)[:, 1]\n",
    "    return y_pred_proba"
   ]
  },
  {
   "cell_type": "code",
   "execution_count": 123,
   "metadata": {},
   "outputs": [],
   "source": [
    "test_raw_df['Exited'] = predict_test(final_xgb, test_raw_df)"
   ]
  },
  {
   "cell_type": "code",
   "execution_count": 125,
   "metadata": {},
   "outputs": [
    {
     "data": {
      "text/html": [
       "<div>\n",
       "<style scoped>\n",
       "    .dataframe tbody tr th:only-of-type {\n",
       "        vertical-align: middle;\n",
       "    }\n",
       "\n",
       "    .dataframe tbody tr th {\n",
       "        vertical-align: top;\n",
       "    }\n",
       "\n",
       "    .dataframe thead th {\n",
       "        text-align: right;\n",
       "    }\n",
       "</style>\n",
       "<table border=\"1\" class=\"dataframe\">\n",
       "  <thead>\n",
       "    <tr style=\"text-align: right;\">\n",
       "      <th></th>\n",
       "      <th>id</th>\n",
       "      <th>CustomerId</th>\n",
       "      <th>Surname</th>\n",
       "      <th>CreditScore</th>\n",
       "      <th>Geography</th>\n",
       "      <th>Gender</th>\n",
       "      <th>Age</th>\n",
       "      <th>Tenure</th>\n",
       "      <th>Balance</th>\n",
       "      <th>NumOfProducts</th>\n",
       "      <th>HasCrCard</th>\n",
       "      <th>IsActiveMember</th>\n",
       "      <th>EstimatedSalary</th>\n",
       "      <th>Exited</th>\n",
       "    </tr>\n",
       "  </thead>\n",
       "  <tbody>\n",
       "    <tr>\n",
       "      <th>0</th>\n",
       "      <td>15000</td>\n",
       "      <td>15594796.0</td>\n",
       "      <td>Chu</td>\n",
       "      <td>584.0</td>\n",
       "      <td>Germany</td>\n",
       "      <td>Male</td>\n",
       "      <td>30.0</td>\n",
       "      <td>2.0</td>\n",
       "      <td>146053.66</td>\n",
       "      <td>1.0</td>\n",
       "      <td>1.0</td>\n",
       "      <td>1.0</td>\n",
       "      <td>157891.86</td>\n",
       "      <td>0.083243</td>\n",
       "    </tr>\n",
       "    <tr>\n",
       "      <th>1</th>\n",
       "      <td>15001</td>\n",
       "      <td>15642821.0</td>\n",
       "      <td>Mazzi</td>\n",
       "      <td>551.0</td>\n",
       "      <td>France</td>\n",
       "      <td>Male</td>\n",
       "      <td>39.0</td>\n",
       "      <td>5.0</td>\n",
       "      <td>0.00</td>\n",
       "      <td>2.0</td>\n",
       "      <td>1.0</td>\n",
       "      <td>1.0</td>\n",
       "      <td>67431.28</td>\n",
       "      <td>0.021402</td>\n",
       "    </tr>\n",
       "    <tr>\n",
       "      <th>2</th>\n",
       "      <td>15002</td>\n",
       "      <td>15716284.0</td>\n",
       "      <td>Onyekachi</td>\n",
       "      <td>706.0</td>\n",
       "      <td>France</td>\n",
       "      <td>Male</td>\n",
       "      <td>43.0</td>\n",
       "      <td>8.0</td>\n",
       "      <td>0.00</td>\n",
       "      <td>2.0</td>\n",
       "      <td>1.0</td>\n",
       "      <td>0.0</td>\n",
       "      <td>156768.45</td>\n",
       "      <td>0.056954</td>\n",
       "    </tr>\n",
       "    <tr>\n",
       "      <th>3</th>\n",
       "      <td>15003</td>\n",
       "      <td>15785078.0</td>\n",
       "      <td>Martin</td>\n",
       "      <td>717.0</td>\n",
       "      <td>Spain</td>\n",
       "      <td>Male</td>\n",
       "      <td>45.0</td>\n",
       "      <td>3.0</td>\n",
       "      <td>0.00</td>\n",
       "      <td>1.0</td>\n",
       "      <td>1.0</td>\n",
       "      <td>1.0</td>\n",
       "      <td>166909.87</td>\n",
       "      <td>0.437609</td>\n",
       "    </tr>\n",
       "    <tr>\n",
       "      <th>4</th>\n",
       "      <td>15004</td>\n",
       "      <td>15662955.0</td>\n",
       "      <td>Kenechukwu</td>\n",
       "      <td>592.0</td>\n",
       "      <td>Spain</td>\n",
       "      <td>Male</td>\n",
       "      <td>43.0</td>\n",
       "      <td>8.0</td>\n",
       "      <td>0.00</td>\n",
       "      <td>2.0</td>\n",
       "      <td>1.0</td>\n",
       "      <td>1.0</td>\n",
       "      <td>143681.97</td>\n",
       "      <td>0.041535</td>\n",
       "    </tr>\n",
       "    <tr>\n",
       "      <th>...</th>\n",
       "      <td>...</td>\n",
       "      <td>...</td>\n",
       "      <td>...</td>\n",
       "      <td>...</td>\n",
       "      <td>...</td>\n",
       "      <td>...</td>\n",
       "      <td>...</td>\n",
       "      <td>...</td>\n",
       "      <td>...</td>\n",
       "      <td>...</td>\n",
       "      <td>...</td>\n",
       "      <td>...</td>\n",
       "      <td>...</td>\n",
       "      <td>...</td>\n",
       "    </tr>\n",
       "    <tr>\n",
       "      <th>9995</th>\n",
       "      <td>24995</td>\n",
       "      <td>15642997.0</td>\n",
       "      <td>Chukwumaobim</td>\n",
       "      <td>639.0</td>\n",
       "      <td>Spain</td>\n",
       "      <td>Male</td>\n",
       "      <td>38.0</td>\n",
       "      <td>10.0</td>\n",
       "      <td>0.00</td>\n",
       "      <td>2.0</td>\n",
       "      <td>1.0</td>\n",
       "      <td>1.0</td>\n",
       "      <td>49637.65</td>\n",
       "      <td>0.014601</td>\n",
       "    </tr>\n",
       "    <tr>\n",
       "      <th>9996</th>\n",
       "      <td>24996</td>\n",
       "      <td>15739271.0</td>\n",
       "      <td>Clements</td>\n",
       "      <td>678.0</td>\n",
       "      <td>Spain</td>\n",
       "      <td>Male</td>\n",
       "      <td>39.0</td>\n",
       "      <td>9.0</td>\n",
       "      <td>0.00</td>\n",
       "      <td>2.0</td>\n",
       "      <td>1.0</td>\n",
       "      <td>1.0</td>\n",
       "      <td>142513.50</td>\n",
       "      <td>0.013728</td>\n",
       "    </tr>\n",
       "    <tr>\n",
       "      <th>9997</th>\n",
       "      <td>24997</td>\n",
       "      <td>15756743.0</td>\n",
       "      <td>Chidiebere</td>\n",
       "      <td>774.0</td>\n",
       "      <td>France</td>\n",
       "      <td>Male</td>\n",
       "      <td>30.0</td>\n",
       "      <td>9.0</td>\n",
       "      <td>0.00</td>\n",
       "      <td>2.0</td>\n",
       "      <td>1.0</td>\n",
       "      <td>0.0</td>\n",
       "      <td>4861.72</td>\n",
       "      <td>0.010266</td>\n",
       "    </tr>\n",
       "    <tr>\n",
       "      <th>9998</th>\n",
       "      <td>24998</td>\n",
       "      <td>15680167.0</td>\n",
       "      <td>Yermakova</td>\n",
       "      <td>595.0</td>\n",
       "      <td>France</td>\n",
       "      <td>Male</td>\n",
       "      <td>38.0</td>\n",
       "      <td>6.0</td>\n",
       "      <td>144875.79</td>\n",
       "      <td>1.0</td>\n",
       "      <td>1.0</td>\n",
       "      <td>0.0</td>\n",
       "      <td>126469.09</td>\n",
       "      <td>0.072979</td>\n",
       "    </tr>\n",
       "    <tr>\n",
       "      <th>9999</th>\n",
       "      <td>24999</td>\n",
       "      <td>15662901.0</td>\n",
       "      <td>Ting</td>\n",
       "      <td>660.0</td>\n",
       "      <td>France</td>\n",
       "      <td>Male</td>\n",
       "      <td>30.0</td>\n",
       "      <td>3.0</td>\n",
       "      <td>0.00</td>\n",
       "      <td>1.0</td>\n",
       "      <td>1.0</td>\n",
       "      <td>0.0</td>\n",
       "      <td>105784.85</td>\n",
       "      <td>0.142766</td>\n",
       "    </tr>\n",
       "  </tbody>\n",
       "</table>\n",
       "<p>10000 rows × 14 columns</p>\n",
       "</div>"
      ],
      "text/plain": [
       "         id  CustomerId       Surname  CreditScore Geography Gender   Age  \\\n",
       "0     15000  15594796.0           Chu        584.0   Germany   Male  30.0   \n",
       "1     15001  15642821.0         Mazzi        551.0    France   Male  39.0   \n",
       "2     15002  15716284.0     Onyekachi        706.0    France   Male  43.0   \n",
       "3     15003  15785078.0        Martin        717.0     Spain   Male  45.0   \n",
       "4     15004  15662955.0    Kenechukwu        592.0     Spain   Male  43.0   \n",
       "...     ...         ...           ...          ...       ...    ...   ...   \n",
       "9995  24995  15642997.0  Chukwumaobim        639.0     Spain   Male  38.0   \n",
       "9996  24996  15739271.0      Clements        678.0     Spain   Male  39.0   \n",
       "9997  24997  15756743.0    Chidiebere        774.0    France   Male  30.0   \n",
       "9998  24998  15680167.0     Yermakova        595.0    France   Male  38.0   \n",
       "9999  24999  15662901.0          Ting        660.0    France   Male  30.0   \n",
       "\n",
       "      Tenure    Balance  NumOfProducts  HasCrCard  IsActiveMember  \\\n",
       "0        2.0  146053.66            1.0        1.0             1.0   \n",
       "1        5.0       0.00            2.0        1.0             1.0   \n",
       "2        8.0       0.00            2.0        1.0             0.0   \n",
       "3        3.0       0.00            1.0        1.0             1.0   \n",
       "4        8.0       0.00            2.0        1.0             1.0   \n",
       "...      ...        ...            ...        ...             ...   \n",
       "9995    10.0       0.00            2.0        1.0             1.0   \n",
       "9996     9.0       0.00            2.0        1.0             1.0   \n",
       "9997     9.0       0.00            2.0        1.0             0.0   \n",
       "9998     6.0  144875.79            1.0        1.0             0.0   \n",
       "9999     3.0       0.00            1.0        1.0             0.0   \n",
       "\n",
       "      EstimatedSalary    Exited  \n",
       "0           157891.86  0.083243  \n",
       "1            67431.28  0.021402  \n",
       "2           156768.45  0.056954  \n",
       "3           166909.87  0.437609  \n",
       "4           143681.97  0.041535  \n",
       "...               ...       ...  \n",
       "9995         49637.65  0.014601  \n",
       "9996        142513.50  0.013728  \n",
       "9997          4861.72  0.010266  \n",
       "9998        126469.09  0.072979  \n",
       "9999        105784.85  0.142766  \n",
       "\n",
       "[10000 rows x 14 columns]"
      ]
     },
     "execution_count": 125,
     "metadata": {},
     "output_type": "execute_result"
    }
   ],
   "source": [
    "test_raw_df"
   ]
  },
  {
   "cell_type": "code",
   "execution_count": 79,
   "metadata": {},
   "outputs": [],
   "source": [
    "sample_submission = pd.read_csv('bank-customer-churn-prediction-dlu-course-c-2/sample_submission.csv')\n",
    "sample_submission['Exited'] = test_raw_df['Exited']\n",
    "sample_submission.head()\n",
    "sample_submission.to_csv('submission_boost.csv', index=False)"
   ]
  },
  {
   "cell_type": "markdown",
   "metadata": {},
   "source": [
    "Обрала модель XGB оскільки вона менш перенавчена порівняно з LGBM."
   ]
  },
  {
   "cell_type": "code",
   "execution_count": 127,
   "metadata": {},
   "outputs": [
    {
     "data": {
      "image/png": "[encoded data removed]",
      "text/plain": [
       "<PIL.PngImagePlugin.PngImageFile image mode=RGBA size=2380x696>"
      ]
     },
     "metadata": {},
     "output_type": "display_data"
    }
   ],
   "source": [
    "from IPython.display import display\n",
    "from PIL import Image\n",
    "\n",
    "img = Image.open(\"submission_boost.png\")\n",
    "display(img)"
   ]
  },
  {
   "cell_type": "code",
   "execution_count": null,
   "metadata": {},
   "outputs": [],
   "source": []
  }
 ],
 "metadata": {
  "accelerator": "GPU",
  "colab": {
   "gpuType": "T4",
   "provenance": []
  },
  "kernelspec": {
   "display_name": "Python [conda env:base] *",
   "language": "python",
   "name": "conda-base-py"
  },
  "language_info": {
   "codemirror_mode": {
    "name": "ipython",
    "version": 3
   },
   "file_extension": ".py",
   "mimetype": "text/x-python",
   "name": "python",
   "nbconvert_exporter": "python",
   "pygments_lexer": "ipython3",
   "version": "3.12.7"
  }
 },
 "nbformat": 4,
 "nbformat_minor": 4
}
