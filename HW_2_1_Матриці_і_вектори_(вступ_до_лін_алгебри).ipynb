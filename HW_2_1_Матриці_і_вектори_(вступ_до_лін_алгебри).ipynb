{
 "cells": [
  {
   "cell_type": "markdown",
   "metadata": {
    "id": "efug1V4CM0lT"
   },
   "source": [
    "### Завдання 1: Створення матриць та векторів\n",
    "1. Створіть `numpy` вектор `vector` розмірністю 10 з випадковими дійсними значеннями в діапазоні від 0 до 1. Можна скористатись двома альтернативними варіантами:\n",
    "  1. Генерація випадкових чисел з модулем [`random.uniform`](https://docs.python.org/3/library/random.html).\n",
    "  2. Створення вектора з допомогою метода `numpy` [np.random.rand](https://numpy.org/doc/stable/reference/random/generated/numpy.random.rand.html)\n",
    "\n",
    "2. Створіть матрицю `matrix` типу `numpy.array` розмірності 3x3 з наступними значеннями\n",
    "\n",
    "  $$\n",
    "  matrix = \\begin{bmatrix}\n",
    "  11 & 14 & 17 \\\\\n",
    "  20 & 23 & 26 \\\\\n",
    "  29 & 32 & 35\n",
    "  \\end{bmatrix}\n",
    "  $$\n",
    "\n",
    "  будь-яким відомими Вам способом.\n",
    "\n",
    "Виведіть на екран вектор і матрицю, а також їх розміри.\n"
   ]
  },
  {
   "cell_type": "code",
   "execution_count": 6,
   "metadata": {},
   "outputs": [],
   "source": [
    "import numpy as np"
   ]
  },
  {
   "cell_type": "code",
   "execution_count": 136,
   "metadata": {
    "id": "jxA_lG2_VIMe"
   },
   "outputs": [
    {
     "name": "stdout",
     "output_type": "stream",
     "text": [
      "Вектор-рядок vector:\n",
      "\n",
      "[0.86740172 0.85024958 0.30346813 0.9146999  0.02424904 0.07083582\n",
      " 0.1911273  0.74285104 0.29765089 0.93010383]\n",
      "\n",
      "Розмiрнiсть vector: (10,)\n"
     ]
    }
   ],
   "source": [
    "# Створення вектора-рядка vector\n",
    "vector = np.random.uniform(0, 1, 10)\n",
    "print(\"Вектор-рядок vector:\\n\")\n",
    "print(vector)\n",
    "print(\"\\nРозмiрнiсть vector:\", vector.shape)"
   ]
  },
  {
   "cell_type": "code",
   "execution_count": 98,
   "metadata": {},
   "outputs": [
    {
     "name": "stdout",
     "output_type": "stream",
     "text": [
      "Вектор-рядок vector2:\n",
      "\n",
      "[0.62750215 0.611702   0.32984976 0.88967718 0.70741562 0.09245154\n",
      " 0.10182647 0.61989452 0.60029639 0.74189715]\n",
      "\n",
      "Розмiрнiсть vector2: (10,)\n"
     ]
    }
   ],
   "source": [
    "# Створення вектора-рядка vector2\n",
    "vector2 = np.random.rand(10)\n",
    "print(\"Вектор-рядок vector2:\\n\")\n",
    "print(vector2)\n",
    "print(\"\\nРозмiрнiсть vector2:\", vector2.shape)"
   ]
  },
  {
   "cell_type": "code",
   "execution_count": 109,
   "metadata": {},
   "outputs": [
    {
     "name": "stdout",
     "output_type": "stream",
     "text": [
      "Матриця matrix:\n",
      "[[11 14 17]\n",
      " [20 23 26]\n",
      " [29 32 35]]\n",
      "\n",
      "Розмiрнiсть matrix: (3, 3)\n"
     ]
    }
   ],
   "source": [
    "matrix = []\n",
    "a_11 = 11\n",
    "step = 3\n",
    "\n",
    "for i in range(3):\n",
    "    row = []\n",
    "    for j in range(3):\n",
    "        row.append(a_11)\n",
    "        a_11 += step\n",
    "    matrix.append(row)\n",
    "    \n",
    "matrix = np.array(matrix)\n",
    "\n",
    "print(\"Матриця matrix:\")\n",
    "print(matrix)\n",
    "print(\"\\nРозмiрнiсть matrix:\", matrix.shape)"
   ]
  },
  {
   "cell_type": "markdown",
   "metadata": {
    "id": "TSJ1P4OuOVe2"
   },
   "source": [
    "\n",
    "### Завдання 2: Операції над векторами та матрицями\n",
    "Виконайте кожну з зазначених операцій над зазначеними оʼєктами і виведіть результат на екран:\n",
    "1. Додайте до кожного значення вектора `vector` число 10 і округліть кожне значення до 2 знаків після коми без використання циклів.\n",
    "2. Помножте кожен елемент матриці з першого завдання на 2 без використання циклів.\n",
    "3. Створіть новий вектор, який містить квадрат кожного `vector` без циклів.\n"
   ]
  },
  {
   "cell_type": "code",
   "execution_count": 138,
   "metadata": {
    "id": "nAAojtyUVJXN"
   },
   "outputs": [
    {
     "name": "stdout",
     "output_type": "stream",
     "text": [
      "[10.87 10.85 10.3  10.91 10.02 10.07 10.19 10.74 10.3  10.93]\n"
     ]
    }
   ],
   "source": [
    "# Операцiї над vector\n",
    "vector = vector + 10\n",
    "vector = vector.round(2) \n",
    "print(vector)"
   ]
  },
  {
   "cell_type": "code",
   "execution_count": 151,
   "metadata": {},
   "outputs": [
    {
     "name": "stdout",
     "output_type": "stream",
     "text": [
      "Матриця matrix після множення на константу 2:\n",
      "[[22 28 34]\n",
      " [40 46 52]\n",
      " [58 64 70]]\n"
     ]
    }
   ],
   "source": [
    "# Множення matrix на константу 2\n",
    "matrix_mult_const = 2 * matrix\n",
    "print(\"Матриця matrix після множення на константу 2:\")\n",
    "print(matrix_mult_const)"
   ]
  },
  {
   "cell_type": "code",
   "execution_count": 172,
   "metadata": {},
   "outputs": [
    {
     "name": "stdout",
     "output_type": "stream",
     "text": [
      "[118.1569 117.7225 106.09   119.0281 100.4004 101.4049 103.8361 115.3476\n",
      " 106.09   119.4649]\n"
     ]
    }
   ],
   "source": [
    "# Квадрат vector\n",
    "squared_vector = vector**2\n",
    "print(squared_vector)"
   ]
  },
  {
   "cell_type": "markdown",
   "metadata": {
    "id": "u6RvWVfhPy-k"
   },
   "source": [
    "\n",
    "### Завдання 3: Множення матриць\n",
    "1. Задані дві матриці `A` і `B`розмірностями 3x2 та 2х3. Виконайте їхнє множення, щоб отримати матрицю 2x2. Виведіть результуючу матрицю `result_matrix` на екран.\n",
    "\n",
    "2. Заданий вектор `C` розмірністю 2х1. Подумайте спочатку, яку розмірність Ви отрмаєте, коли домножите `result_matrix` на вектор `C` і який результат буде. А потім виконайте множення і виведіть результат на екран.\n",
    "\n",
    "3. Задана матриця `D` розмірністю 2х2. Подумайте спочатку, яку розмірність Ви отрмаєте, коли домножите `result_matrix` на матрицю `D` і який результат буде. А потім виконайте множення і виведіть результат на екран."
   ]
  },
  {
   "cell_type": "code",
   "execution_count": 196,
   "metadata": {
    "id": "RwXfPzlbSJ44"
   },
   "outputs": [
    {
     "data": {
      "text/plain": [
       "array([[0.18, 0.53],\n",
       "       [0.75, 0.47],\n",
       "       [0.35, 0.21]])"
      ]
     },
     "metadata": {},
     "output_type": "display_data"
    },
    {
     "data": {
      "text/plain": [
       "array([[0.17, 0.58, 0.75],\n",
       "       [0.38, 0.11, 0.15]])"
      ]
     },
     "metadata": {},
     "output_type": "display_data"
    },
    {
     "data": {
      "text/plain": [
       "array([[0],\n",
       "       [1]])"
      ]
     },
     "metadata": {},
     "output_type": "display_data"
    },
    {
     "data": {
      "text/plain": [
       "array([[0, 1],\n",
       "       [1, 0]])"
      ]
     },
     "metadata": {},
     "output_type": "display_data"
    }
   ],
   "source": [
    "A = np.array(\n",
    "    [[0.18, 0.53],\n",
    "     [0.75, 0.47],\n",
    "     [0.35, 0.21]])\n",
    "\n",
    "B = np.array(\n",
    "    [[0.17, 0.58, 0.75],\n",
    "     [0.38, 0.11, 0.15]])\n",
    "\n",
    "C = np.array([[0], [1]])\n",
    "\n",
    "D = np.array([[0,1], [1,0]])\n",
    "\n",
    "display(A, B, C, D)"
   ]
  },
  {
   "cell_type": "code",
   "execution_count": 192,
   "metadata": {
    "id": "z7-boTbhVKkj"
   },
   "outputs": [
    {
     "name": "stdout",
     "output_type": "stream",
     "text": [
      "[[0.7281 0.5202]\n",
      " [0.2034 0.2846]]\n"
     ]
    }
   ],
   "source": [
    "# Множення матриць A i B\n",
    "result_matrix = np.dot(B, A)\n",
    "print(result_matrix)"
   ]
  },
  {
   "cell_type": "code",
   "execution_count": 198,
   "metadata": {},
   "outputs": [
    {
     "name": "stdout",
     "output_type": "stream",
     "text": [
      "[[0.5202]\n",
      " [0.2846]]\n"
     ]
    }
   ],
   "source": [
    "# Множення матрицi на вектор C\n",
    "result_matrix_С = np.dot(result_matrix, C)\n",
    "print(result_matrix_С)"
   ]
  },
  {
   "cell_type": "code",
   "execution_count": 200,
   "metadata": {},
   "outputs": [
    {
     "name": "stdout",
     "output_type": "stream",
     "text": [
      "[[0.5202 0.7281]\n",
      " [0.2846 0.2034]]\n"
     ]
    }
   ],
   "source": [
    "# Множення матрицi на матрицю D\n",
    "result_matrix_D = np.dot(result_matrix, D)\n",
    "print(result_matrix_D)"
   ]
  },
  {
   "cell_type": "markdown",
   "metadata": {
    "id": "wohp0_cxSGpl"
   },
   "source": [
    "\n",
    "### Завдання 4: Транспонування матриць\n",
    "1. Транспонуйте `result_matrix`.\n",
    "2. Зробіть транспонування вектора `vector` і виведіть форму нової структури. Чи бачите ви зміну?\n",
    "3. Використайте операцію `numpy.expand_dims` над вектором `vector` з аргументом axis=1. Запишіть отриманий результат в змінну `column_vector` і виведіть на екран. Порівняйте з `vector`.\n",
    "4. Зробіть транспонування `column_vector`, виведіть результат на екран разом з розмірностями отриманої структури.\n",
    "\n",
    "\n"
   ]
  },
  {
   "cell_type": "code",
   "execution_count": 203,
   "metadata": {
    "id": "4hFcq1baVLii"
   },
   "outputs": [
    {
     "name": "stdout",
     "output_type": "stream",
     "text": [
      "[[0.7281 0.2034]\n",
      " [0.5202 0.2846]]\n"
     ]
    }
   ],
   "source": [
    "# Транспонування матрицi\n",
    "result_matrix_T = result_matrix.T\n",
    "print(result_matrix_T)"
   ]
  },
  {
   "cell_type": "code",
   "execution_count": 219,
   "metadata": {},
   "outputs": [
    {
     "name": "stdout",
     "output_type": "stream",
     "text": [
      "[10.87 10.85 10.3  10.91 10.02 10.07 10.19 10.74 10.3  10.93]\n",
      "\n",
      "Розмiрнiсть vector_T: (10,)\n"
     ]
    }
   ],
   "source": [
    "# Транспонування вектору\n",
    "vector_T = vector.T\n",
    "print(vector_T)\n",
    "print(\"\\nРозмiрнiсть vector_T:\", vector_T.shape)"
   ]
  },
  {
   "cell_type": "markdown",
   "metadata": {},
   "source": [
    "Розмiрнiсть вектора залишилась такою ж як i у вектора vector."
   ]
  },
  {
   "cell_type": "code",
   "execution_count": 225,
   "metadata": {},
   "outputs": [
    {
     "name": "stdout",
     "output_type": "stream",
     "text": [
      "[[10.87]\n",
      " [10.85]\n",
      " [10.3 ]\n",
      " [10.91]\n",
      " [10.02]\n",
      " [10.07]\n",
      " [10.19]\n",
      " [10.74]\n",
      " [10.3 ]\n",
      " [10.93]]\n",
      "\n",
      "Розмiрнiсть column_vector: (10, 1)\n"
     ]
    }
   ],
   "source": [
    "column_vector = np.expand_dims(vector, axis=1)\n",
    "print(column_vector)\n",
    "print(\"\\nРозмiрнiсть column_vector:\", column_vector.shape)"
   ]
  },
  {
   "cell_type": "markdown",
   "metadata": {},
   "source": [
    "В результатi застосування операції numpy.expand_dims з вектора-рядка отримали вектор-стовпець."
   ]
  },
  {
   "cell_type": "code",
   "execution_count": 228,
   "metadata": {},
   "outputs": [
    {
     "name": "stdout",
     "output_type": "stream",
     "text": [
      "[[10.87 10.85 10.3  10.91 10.02 10.07 10.19 10.74 10.3  10.93]]\n",
      "\n",
      "Розмiрнiсть column_vector_T: (1, 10)\n"
     ]
    }
   ],
   "source": [
    "# Транспонування вектору column_vector\n",
    "column_vector_T = column_vector.T\n",
    "print(column_vector_T)\n",
    "print(\"\\nРозмiрнiсть column_vector_T:\", column_vector_T.shape)"
   ]
  }
 ],
 "metadata": {
  "colab": {
   "provenance": []
  },
  "kernelspec": {
   "display_name": "Python 3 (ipykernel)",
   "language": "python",
   "name": "python3"
  },
  "language_info": {
   "codemirror_mode": {
    "name": "ipython",
    "version": 3
   },
   "file_extension": ".py",
   "mimetype": "text/x-python",
   "name": "python",
   "nbconvert_exporter": "python",
   "pygments_lexer": "ipython3",
   "version": "3.12.7"
  }
 },
 "nbformat": 4,
 "nbformat_minor": 4
}
